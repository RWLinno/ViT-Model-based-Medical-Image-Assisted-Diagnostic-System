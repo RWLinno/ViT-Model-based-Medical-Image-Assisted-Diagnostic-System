{
 "cells": [
  {
   "cell_type": "code",
   "execution_count": 1,
   "id": "a6b041a5-1820-4b51-b713-368a2c1288f7",
   "metadata": {
    "execution": {
     "iopub.execute_input": "2023-09-24T07:13:39.630017Z",
     "iopub.status.busy": "2023-09-24T07:13:39.629017Z",
     "iopub.status.idle": "2023-09-24T07:13:43.040253Z",
     "shell.execute_reply": "2023-09-24T07:13:43.039251Z",
     "shell.execute_reply.started": "2023-09-24T07:13:39.630017Z"
    }
   },
   "outputs": [
    {
     "name": "stderr",
     "output_type": "stream",
     "text": [
      "d:\\Env\\anaconda3\\envs\\cv\\lib\\site-packages\\tqdm\\auto.py:21: TqdmWarning: IProgress not found. Please update jupyter and ipywidgets. See https://ipywidgets.readthedocs.io/en/stable/user_install.html\n",
      "  from .autonotebook import tqdm as notebook_tqdm\n"
     ]
    }
   ],
   "source": [
    "import numpy as np\n",
    "import pandas as pd\n",
    "import os\n",
    "import math\n",
    "import matplotlib.pyplot as plt\n",
    "import torch\n",
    "import torch.nn as nn\n",
    "import torch.optim as optim\n",
    "import tarfile"
   ]
  },
  {
   "cell_type": "code",
   "execution_count": 2,
   "id": "9b49d871-f3c1-4f8a-b7e3-f2a079fb25ad",
   "metadata": {
    "execution": {
     "iopub.execute_input": "2023-09-24T07:13:43.043255Z",
     "iopub.status.busy": "2023-09-24T07:13:43.042254Z",
     "iopub.status.idle": "2023-09-24T07:13:43.056258Z",
     "shell.execute_reply": "2023-09-24T07:13:43.054257Z",
     "shell.execute_reply.started": "2023-09-24T07:13:43.043255Z"
    }
   },
   "outputs": [],
   "source": [
    "# ignore warnings\n",
    "import warnings\n",
    "warnings.filterwarnings('ignore')"
   ]
  },
  {
   "cell_type": "code",
   "execution_count": 3,
   "id": "fa3aa641-6b97-4522-8896-ccce831726d1",
   "metadata": {
    "execution": {
     "iopub.execute_input": "2023-09-24T07:13:43.058258Z",
     "iopub.status.busy": "2023-09-24T07:13:43.058258Z",
     "iopub.status.idle": "2023-09-24T07:13:43.089264Z",
     "shell.execute_reply": "2023-09-24T07:13:43.086268Z",
     "shell.execute_reply.started": "2023-09-24T07:13:43.058258Z"
    }
   },
   "outputs": [
    {
     "data": {
      "text/plain": [
       "'\\nimport jupyter_ai\\n%reload_ext jupyter_ai_magics\\n%reload_ext dotenv\\n%dotenv /root/key.env\\n%ai list\\n'"
      ]
     },
     "execution_count": 3,
     "metadata": {},
     "output_type": "execute_result"
    }
   ],
   "source": [
    "# I recommend using Jupyter ai to help with development,\n",
    "# here is a chatgpt api provided\n",
    "'''\n",
    "import jupyter_ai\n",
    "%reload_ext jupyter_ai_magics\n",
    "%reload_ext dotenv\n",
    "%dotenv /root/key.env\n",
    "%ai list\n",
    "'''"
   ]
  },
  {
   "cell_type": "code",
   "execution_count": 4,
   "id": "ea701032-1cae-47fc-9c47-baf7bc9d259c",
   "metadata": {
    "execution": {
     "iopub.execute_input": "2023-09-24T07:13:43.091266Z",
     "iopub.status.busy": "2023-09-24T07:13:43.091266Z",
     "iopub.status.idle": "2023-09-24T07:13:43.103270Z",
     "shell.execute_reply": "2023-09-24T07:13:43.101270Z",
     "shell.execute_reply.started": "2023-09-24T07:13:43.091266Z"
    }
   },
   "outputs": [],
   "source": [
    "device = torch.device(\"cuda\" if torch.cuda.is_available() else \"cpu\")"
   ]
  },
  {
   "cell_type": "code",
   "execution_count": 5,
   "id": "e46cbf00-e4d7-4012-bdcf-8ab9452b2cac",
   "metadata": {
    "editable": true,
    "execution": {
     "iopub.execute_input": "2023-09-24T07:13:43.106271Z",
     "iopub.status.busy": "2023-09-24T07:13:43.105269Z",
     "iopub.status.idle": "2023-09-24T07:13:43.121278Z",
     "shell.execute_reply": "2023-09-24T07:13:43.117272Z",
     "shell.execute_reply.started": "2023-09-24T07:13:43.106271Z"
    },
    "slideshow": {
     "slide_type": ""
    },
    "tags": []
   },
   "outputs": [],
   "source": [
    "# choose parameters\n",
    "dataset_name = \"flower_photos.tar\"\n",
    "data_path = \"./data/flower_photos\"\n",
    "num_classes = 5\n",
    "batch_size = 8\n",
    "epoch_num = 20\n",
    "learning_rate = 0.001"
   ]
  },
  {
   "cell_type": "code",
   "execution_count": 6,
   "id": "facc2346-dc4f-4c98-9183-0e49eb6b142e",
   "metadata": {
    "execution": {
     "iopub.execute_input": "2023-09-24T07:13:43.123273Z",
     "iopub.status.busy": "2023-09-24T07:13:43.123273Z",
     "iopub.status.idle": "2023-09-24T07:13:48.410784Z",
     "shell.execute_reply": "2023-09-24T07:13:48.409783Z",
     "shell.execute_reply.started": "2023-09-24T07:13:43.123273Z"
    }
   },
   "outputs": [],
   "source": [
    "# Decompress the dataset\n",
    "with tarfile.open(dataset_name,'r') as dataset:\n",
    "    dataset.extractall(path=\"./data/\")"
   ]
  },
  {
   "cell_type": "code",
   "execution_count": 7,
   "id": "d3f7d2f8-6674-4648-9c70-7daebade8e3e",
   "metadata": {
    "editable": true,
    "execution": {
     "iopub.execute_input": "2023-09-24T07:13:48.418790Z",
     "iopub.status.busy": "2023-09-24T07:13:48.418790Z",
     "iopub.status.idle": "2023-09-24T07:13:49.635278Z",
     "shell.execute_reply": "2023-09-24T07:13:49.633278Z",
     "shell.execute_reply.started": "2023-09-24T07:13:48.418790Z"
    },
    "slideshow": {
     "slide_type": ""
    },
    "tags": []
   },
   "outputs": [
    {
     "name": "stdout",
     "output_type": "stream",
     "text": [
      "3670 images were found. 2572 for training and 1098 for validation.\n"
     ]
    },
    {
     "data": {
      "image/png": "[encoded data removed]",
      "text/plain": [
       "<Figure size 640x480 with 1 Axes>"
      ]
     },
     "metadata": {},
     "output_type": "display_data"
    }
   ],
   "source": [
    "from utils import read_split_data, train_epoch, evaluate\n",
    "from Mydataset import CustomDataset\n",
    "from torchvision import transforms\n",
    "from torch.optim import lr_scheduler\n",
    "train_data, train_label, val_data, val_label = read_split_data(data_path)"
   ]
  },
  {
   "cell_type": "code",
   "execution_count": 8,
   "id": "752cf829-a327-439a-a35f-e82041966d49",
   "metadata": {
    "execution": {
     "iopub.execute_input": "2023-09-24T07:13:49.638279Z",
     "iopub.status.busy": "2023-09-24T07:13:49.637278Z",
     "iopub.status.idle": "2023-09-24T07:13:49.668286Z",
     "shell.execute_reply": "2023-09-24T07:13:49.664285Z",
     "shell.execute_reply.started": "2023-09-24T07:13:49.638279Z"
    }
   },
   "outputs": [],
   "source": [
    "data_transform = {\n",
    "    \"train\": transforms.Compose([transforms.RandomResizedCrop(224),\n",
    "                                 transforms.RandomHorizontalFlip(),\n",
    "                                 transforms.ToTensor(),\n",
    "                                 transforms.Normalize([0.5, 0.5, 0.5], [0.5, 0.5, 0.5])]),\n",
    "    \"val\": transforms.Compose([transforms.Resize(256),\n",
    "                               transforms.CenterCrop(224),\n",
    "                               transforms.ToTensor(),\n",
    "                               transforms.Normalize([0.5, 0.5, 0.5], [0.5, 0.5, 0.5])])}\n",
    "\n",
    "# instantiate dataset for training and validation\n",
    "train_dataset = CustomDataset(images_path=train_data,\n",
    "                          images_class=train_label,\n",
    "                          transform=data_transform[\"train\"])\n",
    "val_dataset = CustomDataset(images_path=val_data,\n",
    "                        images_class=val_label,\n",
    "                        transform=data_transform[\"val\"])"
   ]
  },
  {
   "cell_type": "code",
   "execution_count": 9,
   "id": "fbc8ce9c-8fcf-404e-be6a-d7a2ffbdaaec",
   "metadata": {
    "execution": {
     "iopub.execute_input": "2023-09-24T07:13:49.670288Z",
     "iopub.status.busy": "2023-09-24T07:13:49.670288Z",
     "iopub.status.idle": "2023-09-24T07:13:49.696292Z",
     "shell.execute_reply": "2023-09-24T07:13:49.695294Z",
     "shell.execute_reply.started": "2023-09-24T07:13:49.670288Z"
    }
   },
   "outputs": [],
   "source": [
    "worker_num = min([os.cpu_count(),batch_size if batch_size>1 else 0, 8])\n",
    "train_loader = torch.utils.data.DataLoader(train_dataset,\n",
    "                                           batch_size=batch_size,\n",
    "                                           shuffle=True,\n",
    "                                           pin_memory=True,\n",
    "                                           num_workers=worker_num)\n",
    "\n",
    "val_loader = torch.utils.data.DataLoader(val_dataset,\n",
    "                                         batch_size=batch_size,\n",
    "                                         shuffle=False,\n",
    "                                         pin_memory=True,\n",
    "                                         num_workers=worker_num)"
   ]
  },
  {
   "cell_type": "code",
   "execution_count": 10,
   "id": "95f2d519-cff5-4f60-bc1d-c127cab1892f",
   "metadata": {
    "execution": {
     "iopub.execute_input": "2023-09-24T07:13:49.700294Z",
     "iopub.status.busy": "2023-09-24T07:13:49.698294Z",
     "iopub.status.idle": "2023-09-24T07:13:52.740203Z",
     "shell.execute_reply": "2023-09-24T07:13:52.739201Z",
     "shell.execute_reply.started": "2023-09-24T07:13:49.700294Z"
    }
   },
   "outputs": [],
   "source": [
    "from ViT import ViT as MyViT\n",
    "\n",
    "model = MyViT(num_classes=num_classes).to(device)\n",
    "\n",
    "pg = [p for p in model.parameters() if p.requires_grad]\n",
    "optimizer = optim.SGD(pg,lr=learning_rate)\n",
    "\n",
    "# Cosine annealing learning rate function\n",
    "lf = lambda x: ((1 + math.cos(x * math.pi / epoch_num )) / 2) * (1 - 0.001) + 0.001  # cosine\n",
    "scheduler = lr_scheduler.LambdaLR(optimizer, lr_lambda=lf)"
   ]
  },
  {
   "cell_type": "code",
   "execution_count": 11,
   "id": "dfbc4cbc-72a0-4431-a23e-3401b74896d3",
   "metadata": {
    "execution": {
     "iopub.status.busy": "2023-09-24T07:13:52.741201Z",
     "iopub.status.idle": "2023-09-24T07:13:52.742201Z",
     "shell.execute_reply": "2023-09-24T07:13:52.742201Z",
     "shell.execute_reply.started": "2023-09-24T07:13:52.742201Z"
    },
    "scrolled": true
   },
   "outputs": [
    {
     "name": "stdout",
     "output_type": "stream",
     "text": [
      "[train epoch 0] loss: 1.435, acc: 0.357: 100%|██████████| 322/322 [03:25<00:00,  1.56it/s]\n",
      "[valid epoch 20] loss: 1.395, acc: 0.369: 100%|██████████| 138/138 [00:45<00:00,  3.01it/s]\n",
      "[train epoch 1] loss: 1.336, acc: 0.415: 100%|██████████| 322/322 [03:23<00:00,  1.58it/s]\n",
      "[valid epoch 20] loss: 1.410, acc: 0.413: 100%|██████████| 138/138 [00:45<00:00,  3.02it/s]\n",
      "[train epoch 2] loss: 1.275, acc: 0.448: 100%|██████████| 322/322 [03:23<00:00,  1.58it/s]\n",
      "[valid epoch 20] loss: 1.224, acc: 0.488: 100%|██████████| 138/138 [00:44<00:00,  3.13it/s]\n",
      "[train epoch 3] loss: 1.173, acc: 0.505: 100%|██████████| 322/322 [03:23<00:00,  1.59it/s]\n",
      "[valid epoch 20] loss: 1.143, acc: 0.533: 100%|██████████| 138/138 [00:44<00:00,  3.10it/s]\n",
      "[train epoch 4] loss: 1.109, acc: 0.535: 100%|██████████| 322/322 [03:19<00:00,  1.61it/s]\n",
      "[valid epoch 20] loss: 1.215, acc: 0.511: 100%|██████████| 138/138 [00:47<00:00,  2.89it/s]\n",
      "[train epoch 5] loss: 1.079, acc: 0.557: 100%|██████████| 322/322 [03:21<00:00,  1.60it/s]\n",
      "[valid epoch 20] loss: 1.122, acc: 0.566: 100%|██████████| 138/138 [00:45<00:00,  3.06it/s]\n",
      "[train epoch 6] loss: 1.038, acc: 0.586: 100%|██████████| 322/322 [03:09<00:00,  1.69it/s]\n",
      "[valid epoch 20] loss: 1.107, acc: 0.534: 100%|██████████| 138/138 [00:41<00:00,  3.32it/s]\n",
      "[train epoch 7] loss: 1.027, acc: 0.599: 100%|██████████| 322/322 [03:07<00:00,  1.72it/s]\n",
      "[valid epoch 20] loss: 1.029, acc: 0.606: 100%|██████████| 138/138 [00:41<00:00,  3.33it/s]\n",
      "[train epoch 8] loss: 0.998, acc: 0.600: 100%|██████████| 322/322 [03:07<00:00,  1.72it/s]\n",
      "[valid epoch 20] loss: 1.046, acc: 0.587: 100%|██████████| 138/138 [00:41<00:00,  3.33it/s]\n",
      "[train epoch 9] loss: 0.991, acc: 0.607: 100%|██████████| 322/322 [03:07<00:00,  1.71it/s]\n",
      "[valid epoch 20] loss: 0.949, acc: 0.639: 100%|██████████| 138/138 [00:41<00:00,  3.35it/s]\n",
      "[train epoch 10] loss: 0.955, acc: 0.624: 100%|██████████| 322/322 [03:10<00:00,  1.69it/s]\n",
      "[valid epoch 20] loss: 0.986, acc: 0.622: 100%|██████████| 138/138 [00:41<00:00,  3.31it/s]\n",
      "[train epoch 11] loss: 0.936, acc: 0.630: 100%|██████████| 322/322 [03:07<00:00,  1.72it/s]\n",
      "[valid epoch 20] loss: 0.896, acc: 0.659: 100%|██████████| 138/138 [00:41<00:00,  3.36it/s]\n",
      "[train epoch 12] loss: 0.912, acc: 0.641: 100%|██████████| 322/322 [03:08<00:00,  1.71it/s]\n",
      "[valid epoch 20] loss: 0.873, acc: 0.674: 100%|██████████| 138/138 [00:40<00:00,  3.37it/s]\n",
      "[train epoch 13] loss: 0.894, acc: 0.642: 100%|██████████| 322/322 [03:07<00:00,  1.72it/s]\n",
      "[valid epoch 20] loss: 0.898, acc: 0.659: 100%|██████████| 138/138 [00:40<00:00,  3.38it/s]\n",
      "[train epoch 14] loss: 0.889, acc: 0.649: 100%|██████████| 322/322 [03:07<00:00,  1.72it/s]\n",
      "[valid epoch 20] loss: 0.878, acc: 0.672: 100%|██████████| 138/138 [00:41<00:00,  3.33it/s]\n",
      "[train epoch 15] loss: 0.854, acc: 0.673: 100%|██████████| 322/322 [03:07<00:00,  1.72it/s]\n",
      "[valid epoch 20] loss: 0.854, acc: 0.674: 100%|██████████| 138/138 [00:41<00:00,  3.35it/s]\n",
      "[train epoch 16] loss: 0.848, acc: 0.670: 100%|██████████| 322/322 [03:07<00:00,  1.72it/s]\n",
      "[valid epoch 20] loss: 0.842, acc: 0.686: 100%|██████████| 138/138 [00:41<00:00,  3.35it/s]\n",
      "[train epoch 17] loss: 0.837, acc: 0.679: 100%|██████████| 322/322 [03:07<00:00,  1.72it/s]\n",
      "[valid epoch 20] loss: 0.835, acc: 0.688: 100%|██████████| 138/138 [00:41<00:00,  3.35it/s]\n",
      "[train epoch 18] loss: 0.824, acc: 0.680: 100%|██████████| 322/322 [03:07<00:00,  1.71it/s]\n",
      "[valid epoch 20] loss: 0.829, acc: 0.688: 100%|██████████| 138/138 [00:41<00:00,  3.34it/s]\n",
      "[train epoch 19] loss: 0.837, acc: 0.668: 100%|██████████| 322/322 [03:07<00:00,  1.72it/s]\n",
      "[valid epoch 20] loss: 0.829, acc: 0.689: 100%|██████████| 138/138 [00:41<00:00,  3.34it/s]\n"
     ]
    }
   ],
   "source": [
    "for epoch in range(epoch_num):\n",
    "    train_loss,train_acc = train_epoch(model=model,optimizer=optimizer,data_loader=train_loader,device=device,epoch=epoch)\n",
    "    scheduler.step()\n",
    "    val_loss,val_acc = evaluate(model=model,data_loader=val_loader,device=device,epoch=epoch)"
   ]
  },
  {
   "cell_type": "code",
   "execution_count": 12,
   "id": "87d68480-38d2-458b-8ff1-33791e6dfb79",
   "metadata": {},
   "outputs": [],
   "source": [
    "name = \"ViT_pre_train_20_epochs\"\n",
    "torch.save(model.state_dict(),f\"./models/{name}.pth\")"
   ]
  },
  {
   "cell_type": "code",
   "execution_count": null,
   "id": "eeb85fb3",
   "metadata": {},
   "outputs": [],
   "source": []
  }
 ],
 "metadata": {
  "kernelspec": {
   "display_name": "Python 3 (ipykernel)",
   "language": "python",
   "name": "python3"
  },
  "language_info": {
   "codemirror_mode": {
    "name": "ipython",
    "version": 3
   },
   "file_extension": ".py",
   "mimetype": "text/x-python",
   "name": "python",
   "nbconvert_exporter": "python",
   "pygments_lexer": "ipython3",
   "version": "3.7.16"
  }
 },
 "nbformat": 4,
 "nbformat_minor": 5
}
